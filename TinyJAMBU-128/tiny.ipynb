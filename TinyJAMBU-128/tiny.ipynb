{
 "cells": [
  {
   "cell_type": "code",
   "execution_count": null,
   "metadata": {},
   "outputs": [],
   "source": [
    "import os\n",
    "import torch\n",
    "from torch import nn\n",
    "from torch.nn import functional as F\n",
    "import torch.utils.data as Data\n",
    "from torch.utils.data import DataLoader\n",
    "from torch.utils.data import random_split\n",
    "from torchvision.datasets import MNIST\n",
    "from torchvision import transforms\n",
    "import pytorch_lightning as pl\n",
    "import torchmetrics\n",
    "import numpy as np"
   ]
  },
  {
   "cell_type": "code",
   "execution_count": null,
   "metadata": {},
   "outputs": [],
   "source": [
    "class MLP(pl.LightningModule):\n",
    "    def __init__(self, n_features):\n",
    "        super().__init__()\n",
    "        self.n_features = n_features\n",
    "        self.layers = nn.Sequential(\n",
    "            nn.Linear(self.n_features, 1024),\n",
    "            nn.ReLU(),\n",
    "            nn.Linear(1024, 1024),\n",
    "            nn.ReLU(),\n",
    "            nn.Linear(1024, 1024),\n",
    "            nn.ReLU(),\n",
    "            nn.Linear(1024, 1),\n",
    "            nn.Sigmoid(),\n",
    "        )\n",
    "        self.learning_rate = 1e-3\n",
    "        self.ce = nn.BCEWithLogitsLoss()\n",
    "\n",
    "    def forward(self, x):\n",
    "        return self.layers(x)\n",
    "\n",
    "    def configure_optimizers(self):\n",
    "        optimizer = torch.optim.Adam(self.parameters(), lr=self.learning_rate)\n",
    "        return optimizer\n",
    "\n",
    "    def training_step(self, train_batch, batch_idx):\n",
    "        x, y = train_batch\n",
    "        y_hat = self(x)\n",
    "        acc_y_hat = y_hat.clone()\n",
    "        acc_y_hat[acc_y_hat > 0.5] = 1\n",
    "        acc_y_hat[acc_y_hat <= 0.5] = 0\n",
    "        loss = self.ce(acc_y_hat.clone().float(), y.clone().float())\n",
    "        acc = torchmetrics.functional.accuracy(acc_y_hat.long(), y.clone().long())\n",
    "        self.log(\n",
    "            'train_loss',\n",
    "            loss,\n",
    "            on_step=True,\n",
    "            on_epoch=True,\n",
    "            prog_bar=True,\n",
    "            sync_dist=True,\n",
    "        )\n",
    "        self.log(\n",
    "            'train_acc', acc, on_step=True, on_epoch=True, prog_bar=True, sync_dist=True\n",
    "        )\n",
    "        return loss\n",
    "\n",
    "    def validation_step(self, batch, batch_idx):\n",
    "        x, y = batch\n",
    "        y_hat = self(x)\n",
    "        acc_y_hat = y_hat.clone()\n",
    "        acc_y_hat[acc_y_hat > 0.5] = 1\n",
    "        acc_y_hat[acc_y_hat <= 0.5] = 0\n",
    "        loss = self.ce(acc_y_hat.clone().float(), y.clone().float())\n",
    "        acc = torchmetrics.functional.accuracy(\n",
    "            acc_y_hat.clone().long(), y.clone().long()\n",
    "        )\n",
    "        self.log(\n",
    "            'val_loss', loss, on_step=True, on_epoch=True, prog_bar=True, sync_dist=True\n",
    "        )\n",
    "        self.log(\n",
    "            'val_acc', acc, on_step=True, on_epoch=True, prog_bar=True, sync_dist=True\n",
    "        )\n",
    "        return loss\n",
    "\n",
    "    def test_step(self, batch, batch_idx):\n",
    "        x, y = batch\n",
    "        x = x.view(x.size(0), -1)\n",
    "        y_hat = self(x)\n",
    "        loss = self.ce(y_hat.view_as(y), y.float())\n",
    "        acc_y_hat = y_hat.clone()\n",
    "        acc_y_hat[acc_y_hat > 0.5] = 1\n",
    "        acc_y_hat[acc_y_hat <= 0.5] = 0\n",
    "        acc = torchmetrics.functional.accuracy(acc_y_hat.long(), y.clone().long())\n",
    "        self.log('test_loss', loss)\n",
    "        self.log('test_acc', acc)\n"
   ]
  },
  {
   "cell_type": "code",
   "execution_count": null,
   "metadata": {},
   "outputs": [],
   "source": [
    "%%time\n",
    "import numpy\n",
    "ver = '6'\n",
    "print(os.getcwd())\n",
    "# os.chdir('./tiny/')\n",
    "X = numpy.load(ver + '_X.npy')\n",
    "Y = numpy.load(ver + '_Y.npy')\n",
    "X_eval = numpy.load(ver + '_Xv.npy')\n",
    "Y_eval = numpy.load(ver + '_Yv.npy')\n",
    "\n",
    "X = numpy.reshape(X, (X.shape[0], -1))\n",
    "X_eval = numpy.reshape(X_eval, (X_eval.shape[0], -1))\n",
    "\n",
    "# print(Y.shape)\n",
    "Y = numpy.reshape(Y, (Y.shape[0], 1))\n",
    "# print(Y.shape)\n",
    "Y_eval = numpy.reshape(Y_eval, (Y_eval.shape[0], 1))"
   ]
  },
  {
   "cell_type": "code",
   "execution_count": null,
   "metadata": {},
   "outputs": [],
   "source": [
    "print(X.shape)"
   ]
  },
  {
   "cell_type": "code",
   "execution_count": null,
   "metadata": {},
   "outputs": [],
   "source": [
    "%%time\n",
    "# print(type(X))\n",
    "print(X.shape, X.dtype)\n",
    "print(Y)\n",
    "\n",
    "p = dict(\n",
    "    criterion = nn.MSELoss(),\n",
    "    n_features = 256*1,\n",
    "    hidden_size = 128*8, # 128,\n",
    "    num_layers = 3,\n",
    "#     dropout = 0.5,\n",
    "    dropout = 0.2,\n",
    "    learning_rate = 0.001,\n",
    ")\n",
    "\n",
    "net = MLP(n_features = p['n_features'])\n",
    "\n",
    "train_loader = Data.TensorDataset(*(torch.tensor(X.astype('float32')), torch.tensor(Y.astype('float32'))))\n",
    "val_loader = Data.TensorDataset(*(torch.tensor(X_eval.astype('float32')), torch.tensor(Y_eval.astype('float32'))))\n",
    "train_loader = DataLoader(train_loader, num_workers=2, batch_size=2**10, pin_memory=True) #, shuffle=True)\n",
    "val_loader = DataLoader(val_loader, num_workers=1, batch_size=2**7, pin_memory=True) #, shuffle=True)\n",
    "del(X, Y, X_eval, Y_eval)"
   ]
  },
  {
   "cell_type": "code",
   "execution_count": null,
   "metadata": {
    "scrolled": true
   },
   "outputs": [],
   "source": [
    "from pl_bolts.callbacks import PrintTableMetricsCallback\n",
    "from pytorch_lightning.utilities.model_summary import ModelSummary\n",
    "callback = PrintTableMetricsCallback()\n",
    "ModelSummary(net, max_depth=10)"
   ]
  },
  {
   "cell_type": "code",
   "execution_count": null,
   "metadata": {
    "scrolled": true
   },
   "outputs": [],
   "source": [
    "train_loader.dataset.tensors[0].shape"
   ]
  },
  {
   "cell_type": "code",
   "execution_count": null,
   "metadata": {
    "scrolled": true
   },
   "outputs": [],
   "source": [
    "from pytorch_lightning.callbacks import ModelCheckpoint\n",
    "from pytorch_lightning.callbacks.early_stopping import EarlyStopping\n",
    "\n",
    "pl.seed_everything(42, workers=True)\n",
    "bar = pl.callbacks.progress.TQDMProgressBar(refresh_rate=64)\n",
    "\n",
    "checkpoint_callback = ModelCheckpoint(\n",
    "    monitor='val_acc',\n",
    "    filename=ver+'tiny-{epoch:02d}-{val_acc:.3f}',\n",
    "    save_top_k=1,\n",
    "    mode='max',\n",
    "    save_last=True,\n",
    "#     every_n_train_steps= 0, every_n_epochs= 1, train_time_interval= None, save_on_train_epoch_end= None\n",
    ")\n",
    "\n",
    "early_stop_callback = EarlyStopping(monitor=\"val_acc\",\n",
    "                                    min_delta=0.0000,\n",
    "                                    patience=4, verbose=False, mode=\"max\")\n",
    "\n",
    "trainer = pl.Trainer(\n",
    "#                         fast_dev_run=True,\n",
    "                        auto_lr_find=True,\n",
    "#                         limit_train_batches=0.05,\n",
    "                        callbacks=[bar, checkpoint_callback],\n",
    "                        precision=16,\n",
    "#                         limit_train_batches=0.001,\n",
    "#                         limit_val_batches=0.001,\n",
    "#                         weights_summary=\"full\",\n",
    "#                         val_check_interval=2048,\n",
    "                        gpus=[0],\n",
    "                        deterministic=True,\n",
    "                        max_epochs=201)\n",
    "# trainer.tune(net, train_loader, val_loader)\n",
    "lr_finder = trainer.tuner.lr_find(net, train_loader, val_loader, max_lr = 0.1 , num_training = 233)\n",
    "\n",
    "# tn.\n",
    "# train_distinguisher(cipher='GIFT_64', num_epochs=10, num_rounds=4, data_train=2**25, data_test=2**22, difference=(0x0044,0x0000,0x0011,0x0000), pre_trained_model='fresh')"
   ]
  },
  {
   "cell_type": "code",
   "execution_count": null,
   "metadata": {},
   "outputs": [],
   "source": [
    "import matplotlib\n",
    "# Results can be found in\n",
    "# print(lr_finder.results)\n",
    "\n",
    "# Plot with\n",
    "fig = lr_finder.plot(suggest=True)\n",
    "fig.show()\n",
    "\n",
    "# Pick point based on plot, or get suggestion\n",
    "new_lr = lr_finder.suggestion()\n",
    "print(new_lr)"
   ]
  },
  {
   "cell_type": "code",
   "execution_count": null,
   "metadata": {},
   "outputs": [],
   "source": [
    "net.learning_rate = new_lr\n",
    "\n",
    "trainer.fit(net, train_loader, val_loader)"
   ]
  },
  {
   "cell_type": "code",
   "execution_count": null,
   "metadata": {
    "scrolled": true
   },
   "outputs": [],
   "source": [
    "# %%time\n",
    "# xt, yt = make_train_data(data_val,\n",
    "#                                         num_rounds,\n",
    "#                                         diff=difference,\n",
    "#                                         r_start=start_round)\n",
    "# print(yt)\n",
    "\n",
    "xt = np.load(ver+'_Xt.npy')\n",
    "yt = np.load(ver+'_Yt.npy')\n",
    "\n",
    "xt = numpy.reshape(xt, (xt.shape[0], -1))\n",
    "yt = numpy.reshape(yt, (yt.shape[0], 1))\n",
    "\n",
    "test_loader = Data.TensorDataset(*(torch.tensor(xt.astype('float32')), torch.tensor(yt.astype('float32'))))\n",
    "test_loader = DataLoader(test_loader, num_workers=1, batch_size=2**7, pin_memory=True) #, shuffle=True)\n",
    "\n",
    "# del(xt, yt)\n",
    "ret = trainer.test(net, test_loader)"
   ]
  },
  {
   "cell_type": "code",
   "execution_count": null,
   "metadata": {},
   "outputs": [],
   "source": [
    "print(ret[0]['test_acc'])"
   ]
  }
 ],
 "metadata": {
  "interpreter": {
   "hash": "570feb405e2e27c949193ac68f46852414290d515b0ba6e5d90d076ed2284471"
  },
  "kernelspec": {
   "display_name": "Python 3.8.8 64-bit",
   "language": "python",
   "name": "python3"
  },
  "language_info": {
   "codemirror_mode": {
    "name": "ipython",
    "version": 3
   },
   "file_extension": ".py",
   "mimetype": "text/x-python",
   "name": "python",
   "nbconvert_exporter": "python",
   "pygments_lexer": "ipython3",
   "version": "3.8.8"
  }
 },
 "nbformat": 4,
 "nbformat_minor": 4
}
